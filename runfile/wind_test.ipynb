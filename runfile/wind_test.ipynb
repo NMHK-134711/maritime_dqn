{
 "cells": [
  {
   "cell_type": "code",
   "execution_count": null,
   "id": "81afcbfe-862f-413d-8808-374fe8f46051",
   "metadata": {},
   "outputs": [],
   "source": [
    "import xarray as xr\n",
    "\n",
    "# NetCDF 파일 로드\n",
    "nc_file = 'era5_wind_2018_01.nc'  # 파일 경로\n",
    "ds = xr.open_dataset(nc_file)\n",
    "\n",
    "# 데이터셋 정보 출력\n",
    "print(\"데이터셋 정보:\")\n",
    "print(ds)\n",
    "\n",
    "# 시간 변수 확인\n",
    "print(\"\\n시간 변수 (time):\")\n",
    "print(ds['time'])\n",
    "\n",
    "# 시간 간격 확인 (30분 단위인지)\n",
    "time_values = ds['time'].values\n",
    "time_diffs = np.diff(time_values)  # 시간 차이 계산\n",
    "print(\"\\n시간 간격 (분 단위):\")\n",
    "print((time_diffs / np.timedelta64(1, 'm')).astype(int))  # 분 단위로 변환\n",
    "\n",
    "# U-풍과 V-풍 데이터 확인\n",
    "print(\"\\nU-풍 (u10) 크기:\")\n",
    "print(ds['u10'].shape)\n",
    "print(\"V-풍 (v10) 크기:\")\n",
    "print(ds['v10'].shape)\n",
    "\n",
    "# 데이터셋 닫기\n",
    "ds.close()"
   ]
  }
 ],
 "metadata": {
  "kernelspec": {
   "display_name": "Python 3 (ipykernel)",
   "language": "python",
   "name": "python3"
  },
  "language_info": {
   "codemirror_mode": {
    "name": "ipython",
    "version": 3
   },
   "file_extension": ".py",
   "mimetype": "text/x-python",
   "name": "python",
   "nbconvert_exporter": "python",
   "pygments_lexer": "ipython3",
   "version": "3.9.13"
  }
 },
 "nbformat": 4,
 "nbformat_minor": 5
}
