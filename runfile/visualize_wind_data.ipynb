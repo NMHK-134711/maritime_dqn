{
 "cells": [
  {
   "cell_type": "code",
   "execution_count": 4,
   "id": "3063e352-7c27-4037-a452-0e85548445c7",
   "metadata": {},
   "outputs": [
    {
     "name": "stderr",
     "output_type": "stream",
     "text": [
      "시각화 진행률:   2%|█▍                                                                  | 1/48 [00:00<00:22,  2.10it/s]"
     ]
    },
    {
     "name": "stdout",
     "output_type": "stream",
     "text": [
      "저장 완료: C:\\baramproject\\wind_visualize\\wind_visualization_20180101_0000.png\n"
     ]
    },
    {
     "name": "stderr",
     "output_type": "stream",
     "text": [
      "시각화 진행률:   4%|██▊                                                                 | 2/48 [00:01<00:23,  1.96it/s]"
     ]
    },
    {
     "name": "stdout",
     "output_type": "stream",
     "text": [
      "저장 완료: C:\\baramproject\\wind_visualize\\wind_visualization_20180101_0030.png\n"
     ]
    },
    {
     "name": "stderr",
     "output_type": "stream",
     "text": [
      "시각화 진행률:   6%|████▎                                                               | 3/48 [00:01<00:22,  2.03it/s]"
     ]
    },
    {
     "name": "stdout",
     "output_type": "stream",
     "text": [
      "저장 완료: C:\\baramproject\\wind_visualize\\wind_visualization_20180101_0100.png\n"
     ]
    },
    {
     "name": "stderr",
     "output_type": "stream",
     "text": [
      "시각화 진행률:   8%|█████▋                                                              | 4/48 [00:01<00:21,  2.07it/s]"
     ]
    },
    {
     "name": "stdout",
     "output_type": "stream",
     "text": [
      "저장 완료: C:\\baramproject\\wind_visualize\\wind_visualization_20180101_0130.png\n"
     ]
    },
    {
     "name": "stderr",
     "output_type": "stream",
     "text": [
      "시각화 진행률:  10%|███████                                                             | 5/48 [00:02<00:20,  2.09it/s]"
     ]
    },
    {
     "name": "stdout",
     "output_type": "stream",
     "text": [
      "저장 완료: C:\\baramproject\\wind_visualize\\wind_visualization_20180101_0200.png\n"
     ]
    },
    {
     "name": "stderr",
     "output_type": "stream",
     "text": [
      "시각화 진행률:  12%|████████▌                                                           | 6/48 [00:02<00:19,  2.11it/s]"
     ]
    },
    {
     "name": "stdout",
     "output_type": "stream",
     "text": [
      "저장 완료: C:\\baramproject\\wind_visualize\\wind_visualization_20180101_0230.png\n"
     ]
    },
    {
     "name": "stderr",
     "output_type": "stream",
     "text": [
      "시각화 진행률:  15%|█████████▉                                                          | 7/48 [00:03<00:19,  2.10it/s]"
     ]
    },
    {
     "name": "stdout",
     "output_type": "stream",
     "text": [
      "저장 완료: C:\\baramproject\\wind_visualize\\wind_visualization_20180101_0300.png\n"
     ]
    },
    {
     "name": "stderr",
     "output_type": "stream",
     "text": [
      "시각화 진행률:  17%|███████████▎                                                        | 8/48 [00:03<00:18,  2.12it/s]"
     ]
    },
    {
     "name": "stdout",
     "output_type": "stream",
     "text": [
      "저장 완료: C:\\baramproject\\wind_visualize\\wind_visualization_20180101_0330.png\n"
     ]
    },
    {
     "name": "stderr",
     "output_type": "stream",
     "text": [
      "시각화 진행률:  19%|████████████▊                                                       | 9/48 [00:04<00:18,  2.09it/s]"
     ]
    },
    {
     "name": "stdout",
     "output_type": "stream",
     "text": [
      "저장 완료: C:\\baramproject\\wind_visualize\\wind_visualization_20180101_0400.png\n"
     ]
    },
    {
     "name": "stderr",
     "output_type": "stream",
     "text": [
      "시각화 진행률:  21%|█████████████▉                                                     | 10/48 [00:04<00:18,  2.10it/s]"
     ]
    },
    {
     "name": "stdout",
     "output_type": "stream",
     "text": [
      "저장 완료: C:\\baramproject\\wind_visualize\\wind_visualization_20180101_0430.png\n"
     ]
    },
    {
     "name": "stderr",
     "output_type": "stream",
     "text": [
      "시각화 진행률:  23%|███████████████▎                                                   | 11/48 [00:05<00:17,  2.11it/s]"
     ]
    },
    {
     "name": "stdout",
     "output_type": "stream",
     "text": [
      "저장 완료: C:\\baramproject\\wind_visualize\\wind_visualization_20180101_0500.png\n"
     ]
    },
    {
     "name": "stderr",
     "output_type": "stream",
     "text": [
      "시각화 진행률:  25%|████████████████▊                                                  | 12/48 [00:05<00:16,  2.13it/s]"
     ]
    },
    {
     "name": "stdout",
     "output_type": "stream",
     "text": [
      "저장 완료: C:\\baramproject\\wind_visualize\\wind_visualization_20180101_0530.png\n"
     ]
    },
    {
     "name": "stderr",
     "output_type": "stream",
     "text": [
      "시각화 진행률:  27%|██████████████████▏                                                | 13/48 [00:06<00:16,  2.13it/s]"
     ]
    },
    {
     "name": "stdout",
     "output_type": "stream",
     "text": [
      "저장 완료: C:\\baramproject\\wind_visualize\\wind_visualization_20180101_0600.png\n"
     ]
    },
    {
     "name": "stderr",
     "output_type": "stream",
     "text": [
      "시각화 진행률:  29%|███████████████████▌                                               | 14/48 [00:06<00:15,  2.15it/s]"
     ]
    },
    {
     "name": "stdout",
     "output_type": "stream",
     "text": [
      "저장 완료: C:\\baramproject\\wind_visualize\\wind_visualization_20180101_0630.png\n"
     ]
    },
    {
     "name": "stderr",
     "output_type": "stream",
     "text": [
      "시각화 진행률:  31%|████████████████████▉                                              | 15/48 [00:07<00:15,  2.14it/s]"
     ]
    },
    {
     "name": "stdout",
     "output_type": "stream",
     "text": [
      "저장 완료: C:\\baramproject\\wind_visualize\\wind_visualization_20180101_0700.png\n"
     ]
    },
    {
     "name": "stderr",
     "output_type": "stream",
     "text": [
      "시각화 진행률:  33%|██████████████████████▎                                            | 16/48 [00:07<00:15,  2.09it/s]"
     ]
    },
    {
     "name": "stdout",
     "output_type": "stream",
     "text": [
      "저장 완료: C:\\baramproject\\wind_visualize\\wind_visualization_20180101_0730.png\n"
     ]
    },
    {
     "name": "stderr",
     "output_type": "stream",
     "text": [
      "시각화 진행률:  35%|███████████████████████▋                                           | 17/48 [00:08<00:14,  2.10it/s]"
     ]
    },
    {
     "name": "stdout",
     "output_type": "stream",
     "text": [
      "저장 완료: C:\\baramproject\\wind_visualize\\wind_visualization_20180101_0800.png\n"
     ]
    },
    {
     "name": "stderr",
     "output_type": "stream",
     "text": [
      "시각화 진행률:  38%|█████████████████████████▏                                         | 18/48 [00:08<00:14,  2.12it/s]"
     ]
    },
    {
     "name": "stdout",
     "output_type": "stream",
     "text": [
      "저장 완료: C:\\baramproject\\wind_visualize\\wind_visualization_20180101_0830.png\n"
     ]
    },
    {
     "name": "stderr",
     "output_type": "stream",
     "text": [
      "시각화 진행률:  40%|██████████████████████████▌                                        | 19/48 [00:09<00:13,  2.11it/s]"
     ]
    },
    {
     "name": "stdout",
     "output_type": "stream",
     "text": [
      "저장 완료: C:\\baramproject\\wind_visualize\\wind_visualization_20180101_0900.png\n"
     ]
    },
    {
     "name": "stderr",
     "output_type": "stream",
     "text": [
      "시각화 진행률:  42%|███████████████████████████▉                                       | 20/48 [00:09<00:13,  2.07it/s]"
     ]
    },
    {
     "name": "stdout",
     "output_type": "stream",
     "text": [
      "저장 완료: C:\\baramproject\\wind_visualize\\wind_visualization_20180101_0930.png\n"
     ]
    },
    {
     "name": "stderr",
     "output_type": "stream",
     "text": [
      "시각화 진행률:  44%|█████████████████████████████▎                                     | 21/48 [00:10<00:13,  2.05it/s]"
     ]
    },
    {
     "name": "stdout",
     "output_type": "stream",
     "text": [
      "저장 완료: C:\\baramproject\\wind_visualize\\wind_visualization_20180101_1000.png\n"
     ]
    },
    {
     "name": "stderr",
     "output_type": "stream",
     "text": [
      "시각화 진행률:  46%|██████████████████████████████▋                                    | 22/48 [00:10<00:12,  2.07it/s]"
     ]
    },
    {
     "name": "stdout",
     "output_type": "stream",
     "text": [
      "저장 완료: C:\\baramproject\\wind_visualize\\wind_visualization_20180101_1030.png\n"
     ]
    },
    {
     "name": "stderr",
     "output_type": "stream",
     "text": [
      "시각화 진행률:  48%|████████████████████████████████                                   | 23/48 [00:10<00:12,  2.08it/s]"
     ]
    },
    {
     "name": "stdout",
     "output_type": "stream",
     "text": [
      "저장 완료: C:\\baramproject\\wind_visualize\\wind_visualization_20180101_1100.png\n"
     ]
    },
    {
     "name": "stderr",
     "output_type": "stream",
     "text": [
      "시각화 진행률:  50%|█████████████████████████████████▌                                 | 24/48 [00:11<00:11,  2.03it/s]"
     ]
    },
    {
     "name": "stdout",
     "output_type": "stream",
     "text": [
      "저장 완료: C:\\baramproject\\wind_visualize\\wind_visualization_20180101_1130.png\n"
     ]
    },
    {
     "name": "stderr",
     "output_type": "stream",
     "text": [
      "시각화 진행률:  52%|██████████████████████████████████▉                                | 25/48 [00:11<00:11,  2.06it/s]"
     ]
    },
    {
     "name": "stdout",
     "output_type": "stream",
     "text": [
      "저장 완료: C:\\baramproject\\wind_visualize\\wind_visualization_20180101_1200.png\n"
     ]
    },
    {
     "name": "stderr",
     "output_type": "stream",
     "text": [
      "시각화 진행률:  54%|████████████████████████████████████▎                              | 26/48 [00:12<00:10,  2.09it/s]"
     ]
    },
    {
     "name": "stdout",
     "output_type": "stream",
     "text": [
      "저장 완료: C:\\baramproject\\wind_visualize\\wind_visualization_20180101_1230.png\n"
     ]
    },
    {
     "name": "stderr",
     "output_type": "stream",
     "text": [
      "시각화 진행률:  56%|█████████████████████████████████████▋                             | 27/48 [00:12<00:10,  2.10it/s]"
     ]
    },
    {
     "name": "stdout",
     "output_type": "stream",
     "text": [
      "저장 완료: C:\\baramproject\\wind_visualize\\wind_visualization_20180101_1300.png\n"
     ]
    },
    {
     "name": "stderr",
     "output_type": "stream",
     "text": [
      "시각화 진행률:  58%|███████████████████████████████████████                            | 28/48 [00:13<00:09,  2.12it/s]"
     ]
    },
    {
     "name": "stdout",
     "output_type": "stream",
     "text": [
      "저장 완료: C:\\baramproject\\wind_visualize\\wind_visualization_20180101_1330.png\n"
     ]
    },
    {
     "name": "stderr",
     "output_type": "stream",
     "text": [
      "시각화 진행률:  60%|████████████████████████████████████████▍                          | 29/48 [00:13<00:09,  2.11it/s]"
     ]
    },
    {
     "name": "stdout",
     "output_type": "stream",
     "text": [
      "저장 완료: C:\\baramproject\\wind_visualize\\wind_visualization_20180101_1400.png\n"
     ]
    },
    {
     "name": "stderr",
     "output_type": "stream",
     "text": [
      "시각화 진행률:  62%|█████████████████████████████████████████▉                         | 30/48 [00:14<00:08,  2.11it/s]"
     ]
    },
    {
     "name": "stdout",
     "output_type": "stream",
     "text": [
      "저장 완료: C:\\baramproject\\wind_visualize\\wind_visualization_20180101_1430.png\n"
     ]
    },
    {
     "name": "stderr",
     "output_type": "stream",
     "text": [
      "시각화 진행률:  65%|███████████████████████████████████████████▎                       | 31/48 [00:14<00:08,  2.12it/s]"
     ]
    },
    {
     "name": "stdout",
     "output_type": "stream",
     "text": [
      "저장 완료: C:\\baramproject\\wind_visualize\\wind_visualization_20180101_1500.png\n"
     ]
    },
    {
     "name": "stderr",
     "output_type": "stream",
     "text": [
      "시각화 진행률:  67%|████████████████████████████████████████████▋                      | 32/48 [00:15<00:07,  2.10it/s]"
     ]
    },
    {
     "name": "stdout",
     "output_type": "stream",
     "text": [
      "저장 완료: C:\\baramproject\\wind_visualize\\wind_visualization_20180101_1530.png\n"
     ]
    },
    {
     "name": "stderr",
     "output_type": "stream",
     "text": [
      "시각화 진행률:  69%|██████████████████████████████████████████████                     | 33/48 [00:15<00:07,  2.01it/s]"
     ]
    },
    {
     "name": "stdout",
     "output_type": "stream",
     "text": [
      "저장 완료: C:\\baramproject\\wind_visualize\\wind_visualization_20180101_1600.png\n"
     ]
    },
    {
     "name": "stderr",
     "output_type": "stream",
     "text": [
      "시각화 진행률:  71%|███████████████████████████████████████████████▍                   | 34/48 [00:16<00:06,  2.03it/s]"
     ]
    },
    {
     "name": "stdout",
     "output_type": "stream",
     "text": [
      "저장 완료: C:\\baramproject\\wind_visualize\\wind_visualization_20180101_1630.png\n"
     ]
    },
    {
     "name": "stderr",
     "output_type": "stream",
     "text": [
      "시각화 진행률:  73%|████████████████████████████████████████████████▊                  | 35/48 [00:16<00:06,  2.06it/s]"
     ]
    },
    {
     "name": "stdout",
     "output_type": "stream",
     "text": [
      "저장 완료: C:\\baramproject\\wind_visualize\\wind_visualization_20180101_1700.png\n"
     ]
    },
    {
     "name": "stderr",
     "output_type": "stream",
     "text": [
      "시각화 진행률:  75%|██████████████████████████████████████████████████▎                | 36/48 [00:17<00:05,  2.06it/s]"
     ]
    },
    {
     "name": "stdout",
     "output_type": "stream",
     "text": [
      "저장 완료: C:\\baramproject\\wind_visualize\\wind_visualization_20180101_1730.png\n"
     ]
    },
    {
     "name": "stderr",
     "output_type": "stream",
     "text": [
      "시각화 진행률:  77%|███████████████████████████████████████████████████▋               | 37/48 [00:17<00:05,  2.08it/s]"
     ]
    },
    {
     "name": "stdout",
     "output_type": "stream",
     "text": [
      "저장 완료: C:\\baramproject\\wind_visualize\\wind_visualization_20180101_1800.png\n"
     ]
    },
    {
     "name": "stderr",
     "output_type": "stream",
     "text": [
      "시각화 진행률:  79%|█████████████████████████████████████████████████████              | 38/48 [00:18<00:04,  2.09it/s]"
     ]
    },
    {
     "name": "stdout",
     "output_type": "stream",
     "text": [
      "저장 완료: C:\\baramproject\\wind_visualize\\wind_visualization_20180101_1830.png\n"
     ]
    },
    {
     "name": "stderr",
     "output_type": "stream",
     "text": [
      "시각화 진행률:  81%|██████████████████████████████████████████████████████▍            | 39/48 [00:18<00:04,  2.10it/s]"
     ]
    },
    {
     "name": "stdout",
     "output_type": "stream",
     "text": [
      "저장 완료: C:\\baramproject\\wind_visualize\\wind_visualization_20180101_1900.png\n"
     ]
    },
    {
     "name": "stderr",
     "output_type": "stream",
     "text": [
      "시각화 진행률:  83%|███████████████████████████████████████████████████████▊           | 40/48 [00:19<00:03,  2.10it/s]"
     ]
    },
    {
     "name": "stdout",
     "output_type": "stream",
     "text": [
      "저장 완료: C:\\baramproject\\wind_visualize\\wind_visualization_20180101_1930.png\n"
     ]
    },
    {
     "name": "stderr",
     "output_type": "stream",
     "text": [
      "시각화 진행률:  85%|█████████████████████████████████████████████████████████▏         | 41/48 [00:19<00:03,  2.10it/s]"
     ]
    },
    {
     "name": "stdout",
     "output_type": "stream",
     "text": [
      "저장 완료: C:\\baramproject\\wind_visualize\\wind_visualization_20180101_2000.png\n"
     ]
    },
    {
     "name": "stderr",
     "output_type": "stream",
     "text": [
      "시각화 진행률:  88%|██████████████████████████████████████████████████████████▋        | 42/48 [00:20<00:02,  2.11it/s]"
     ]
    },
    {
     "name": "stdout",
     "output_type": "stream",
     "text": [
      "저장 완료: C:\\baramproject\\wind_visualize\\wind_visualization_20180101_2030.png\n"
     ]
    },
    {
     "name": "stderr",
     "output_type": "stream",
     "text": [
      "시각화 진행률:  90%|████████████████████████████████████████████████████████████       | 43/48 [00:20<00:02,  2.13it/s]"
     ]
    },
    {
     "name": "stdout",
     "output_type": "stream",
     "text": [
      "저장 완료: C:\\baramproject\\wind_visualize\\wind_visualization_20180101_2100.png\n"
     ]
    },
    {
     "name": "stderr",
     "output_type": "stream",
     "text": [
      "시각화 진행률:  92%|█████████████████████████████████████████████████████████████▍     | 44/48 [00:21<00:01,  2.05it/s]"
     ]
    },
    {
     "name": "stdout",
     "output_type": "stream",
     "text": [
      "저장 완료: C:\\baramproject\\wind_visualize\\wind_visualization_20180101_2130.png\n"
     ]
    },
    {
     "name": "stderr",
     "output_type": "stream",
     "text": [
      "시각화 진행률:  94%|██████████████████████████████████████████████████████████████▊    | 45/48 [00:21<00:01,  2.08it/s]"
     ]
    },
    {
     "name": "stdout",
     "output_type": "stream",
     "text": [
      "저장 완료: C:\\baramproject\\wind_visualize\\wind_visualization_20180101_2200.png\n"
     ]
    },
    {
     "name": "stderr",
     "output_type": "stream",
     "text": [
      "시각화 진행률:  96%|████████████████████████████████████████████████████████████████▏  | 46/48 [00:22<00:00,  2.10it/s]"
     ]
    },
    {
     "name": "stdout",
     "output_type": "stream",
     "text": [
      "저장 완료: C:\\baramproject\\wind_visualize\\wind_visualization_20180101_2230.png\n"
     ]
    },
    {
     "name": "stderr",
     "output_type": "stream",
     "text": [
      "시각화 진행률:  98%|█████████████████████████████████████████████████████████████████▌ | 47/48 [00:22<00:00,  2.12it/s]"
     ]
    },
    {
     "name": "stdout",
     "output_type": "stream",
     "text": [
      "저장 완료: C:\\baramproject\\wind_visualize\\wind_visualization_20180101_2300.png\n"
     ]
    },
    {
     "name": "stderr",
     "output_type": "stream",
     "text": [
      "시각화 진행률: 100%|███████████████████████████████████████████████████████████████████| 48/48 [00:22<00:00,  2.09it/s]"
     ]
    },
    {
     "name": "stdout",
     "output_type": "stream",
     "text": [
      "저장 완료: C:\\baramproject\\wind_visualize\\wind_visualization_20180101_2330.png\n",
      "모든 시각화 이미지가 성공적으로 저장되었습니다!\n"
     ]
    },
    {
     "name": "stderr",
     "output_type": "stream",
     "text": [
      "\n"
     ]
    }
   ],
   "source": [
    "import json\n",
    "import numpy as np\n",
    "import matplotlib.pyplot as plt\n",
    "import cartopy.crs as ccrs\n",
    "import cartopy.feature as cfeature\n",
    "from matplotlib.colors import Normalize\n",
    "import os\n",
    "from tqdm import tqdm\n",
    "\n",
    "# 1. 출력 디렉토리 설정\n",
    "output_dir = r'C:\\baramproject\\wind_visualize'\n",
    "os.makedirs(output_dir, exist_ok=True)  # 디렉토리 없으면 생성\n",
    "\n",
    "# 2. 2018년 1월 1일 00:00부터 23:30까지 시간 목록 (30분 단위)\n",
    "times = [f'{h:02d}{m:02d}' for h in range(24) for m in [0, 30]]  # 0000, 0030, ..., 2330\n",
    "\n",
    "# 3. 각 시간별 JSON 파일 시각화 및 저장\n",
    "for time in tqdm(times, desc=\"시각화 진행률\"):\n",
    "    # JSON 파일 경로\n",
    "    json_file = rf'C:\\baramproject\\wind_database\\wind_data_20180101_{time}.json'\n",
    "    \n",
    "    # 파일 존재 확인\n",
    "    if not os.path.exists(json_file):\n",
    "        print(f\"파일이 존재하지 않습니다: {json_file}\")\n",
    "        continue\n",
    "\n",
    "    # 4. JSON 파일 로드\n",
    "    with open(json_file, 'r') as f:\n",
    "        data = json.load(f)\n",
    "\n",
    "    # 5. 데이터 추출\n",
    "    metadata = data['metadata']\n",
    "    lats = [item['lat'] for item in data['data']]\n",
    "    lons = [item['lon'] for item in data['data']]\n",
    "    speeds = [item['speed'] for item in data['data']]\n",
    "    directions = [item['direction'] for item in data['data']]\n",
    "\n",
    "    # 6. 그리드 크기 및 좌표 정리 (33x29로 정렬)\n",
    "    grid_size = metadata['grid_size']\n",
    "    n_rows, n_cols = grid_size['rows'], grid_size['cols']  # 33, 29\n",
    "\n",
    "    # 위도와 경도를 2D 배열로 변환 (0.25도 간격으로 정렬 가정)\n",
    "    lat_grid = np.linspace(metadata['region']['lat_max'], metadata['region']['lat_min'], n_rows)  # 38.0 ~ 30.0\n",
    "    lon_grid = np.linspace(metadata['region']['lon_min'], metadata['region']['lon_max'], n_cols)  # 120.0 ~ 127.0\n",
    "    lon_2d, lat_2d = np.meshgrid(lon_grid, lat_grid)\n",
    "\n",
    "    # U-풍과 V-풍으로 변환 (풍향을 북쪽 기준으로 U, V 성분 계산, 크기 고정)\n",
    "    u = [np.sin(np.radians(dir)) for dir in directions]  # 동-서 성분 (크기 1로 고정)\n",
    "    v = [np.cos(np.radians(dir)) for dir in directions]  # 북-남 성분 (크기 1로 고정)\n",
    "\n",
    "    # U, V 데이터를 2D 배열로 재구성\n",
    "    u_2d = np.reshape(u, (n_rows, n_cols))\n",
    "    v_2d = np.reshape(v, (n_rows, n_cols))\n",
    "    speed_2d = np.reshape(speeds, (n_rows, n_cols))\n",
    "\n",
    "    # 7. 지도 시각화\n",
    "    fig = plt.figure(figsize=(12, 10))\n",
    "    ax = fig.add_subplot(1, 1, 1, projection=ccrs.PlateCarree())\n",
    "    ax.set_extent([120, 127, 30, 38], crs=ccrs.PlateCarree())  # 지정된 범위\n",
    "\n",
    "    # 지도 특징 추가\n",
    "    ax.add_feature(cfeature.LAND, facecolor='lightgray')\n",
    "    ax.add_feature(cfeature.OCEAN, facecolor='white')\n",
    "    ax.add_feature(cfeature.COASTLINE)\n",
    "    ax.add_feature(cfeature.BORDERS, linestyle=':')\n",
    "\n",
    "    # 화살표 플롯 (풍향은 방향으로만, 풍속은 색상으로 표시)\n",
    "    norm = Normalize(vmin=np.min(speed_2d), vmax=np.max(speed_2d))\n",
    "    quiver = ax.quiver(lon_2d, lat_2d, u_2d, v_2d, speed_2d, cmap='coolwarm', norm=norm, scale=50, width=0.003, headwidth=4, headlength=6)\n",
    "\n",
    "    # 색상 바 추가 (풍속)\n",
    "    cbar = plt.colorbar(quiver, ax=ax, orientation='vertical', pad=0.05, aspect=50)\n",
    "    cbar.set_label('Wind Speed (m/s)')\n",
    "\n",
    "    # 제목 추가\n",
    "    plt.title(f'Wind Direction (Arrows) and Speed (Color) - {metadata[\"timestamp\"]}')\n",
    "\n",
    "    # 격자선 추가 (선택 사항)\n",
    "    ax.gridlines(draw_labels=True, linestyle='--', alpha=0.5)\n",
    "\n",
    "    # 8. 시각화 결과 저장\n",
    "    output_file = os.path.join(output_dir, f'wind_visualization_20180101_{time}.png')\n",
    "    plt.savefig(output_file, dpi=300, bbox_inches='tight')\n",
    "    plt.close(fig)  # 메모리 관리\n",
    "\n",
    "    print(f\"저장 완료: {output_file}\")\n",
    "\n",
    "print(\"모든 시각화 이미지가 성공적으로 저장되었습니다!\")"
   ]
  }
 ],
 "metadata": {
  "kernelspec": {
   "display_name": "Python 3 (ipykernel)",
   "language": "python",
   "name": "python3"
  },
  "language_info": {
   "codemirror_mode": {
    "name": "ipython",
    "version": 3
   },
   "file_extension": ".py",
   "mimetype": "text/x-python",
   "name": "python",
   "nbconvert_exporter": "python",
   "pygments_lexer": "ipython3",
   "version": "3.9.13"
  }
 },
 "nbformat": 4,
 "nbformat_minor": 5
}
